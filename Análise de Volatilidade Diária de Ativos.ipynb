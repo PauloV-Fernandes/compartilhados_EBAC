{
 "cells": [
  {
   "cell_type": "markdown",
   "metadata": {},
   "source": [
    "# Tarefa 01\n",
    "\n",
    "- Leia os enunciados com atenção\n",
    "- Saiba que pode haver mais de uma resposta correta\n",
    "- Insira novas células de código sempre que achar necessário\n",
    "- Em caso de dúvidas, procure os monitores\n",
    "- Divirta-se :)"
   ]
  },
  {
   "cell_type": "markdown",
   "metadata": {
    "hide_input": false
   },
   "source": [
    "#### 1. Baixando dados de ativos\n",
    "    1. Baixe os dados de três ativos da sua escolha do Yahoo Finance, correspondente a um período de pelo menos 2 anos até a data mais recente.\n",
    "    2. Salve esses dados para que você possa utilizá-los na próxima tarefa."
   ]
  },
  {
   "cell_type": "code",
   "execution_count": 6,
   "metadata": {},
   "outputs": [
    {
     "name": "stdout",
     "output_type": "stream",
     "text": [
      "Requirement already satisfied: yfinance in c:\\users\\conta\\anaconda3\\lib\\site-packages (0.2.52)\n",
      "Requirement already satisfied: pandas>=1.3.0 in c:\\users\\conta\\anaconda3\\lib\\site-packages (from yfinance) (2.2.2)\n",
      "Requirement already satisfied: numpy>=1.16.5 in c:\\users\\conta\\anaconda3\\lib\\site-packages (from yfinance) (1.26.4)\n",
      "Requirement already satisfied: requests>=2.31 in c:\\users\\conta\\anaconda3\\lib\\site-packages (from yfinance) (2.32.2)\n",
      "Requirement already satisfied: multitasking>=0.0.7 in c:\\users\\conta\\anaconda3\\lib\\site-packages (from yfinance) (0.0.11)\n",
      "Requirement already satisfied: lxml>=4.9.1 in c:\\users\\conta\\anaconda3\\lib\\site-packages (from yfinance) (5.2.1)\n",
      "Requirement already satisfied: platformdirs>=2.0.0 in c:\\users\\conta\\anaconda3\\lib\\site-packages (from yfinance) (3.10.0)\n",
      "Requirement already satisfied: pytz>=2022.5 in c:\\users\\conta\\anaconda3\\lib\\site-packages (from yfinance) (2024.1)\n",
      "Requirement already satisfied: frozendict>=2.3.4 in c:\\users\\conta\\anaconda3\\lib\\site-packages (from yfinance) (2.4.2)\n",
      "Requirement already satisfied: peewee>=3.16.2 in c:\\users\\conta\\anaconda3\\lib\\site-packages (from yfinance) (3.17.8)\n",
      "Requirement already satisfied: beautifulsoup4>=4.11.1 in c:\\users\\conta\\anaconda3\\lib\\site-packages (from yfinance) (4.12.3)\n",
      "Requirement already satisfied: html5lib>=1.1 in c:\\users\\conta\\anaconda3\\lib\\site-packages (from yfinance) (1.1)\n",
      "Requirement already satisfied: soupsieve>1.2 in c:\\users\\conta\\anaconda3\\lib\\site-packages (from beautifulsoup4>=4.11.1->yfinance) (2.5)\n",
      "Requirement already satisfied: six>=1.9 in c:\\users\\conta\\anaconda3\\lib\\site-packages (from html5lib>=1.1->yfinance) (1.16.0)\n",
      "Requirement already satisfied: webencodings in c:\\users\\conta\\anaconda3\\lib\\site-packages (from html5lib>=1.1->yfinance) (0.5.1)\n",
      "Requirement already satisfied: python-dateutil>=2.8.2 in c:\\users\\conta\\anaconda3\\lib\\site-packages (from pandas>=1.3.0->yfinance) (2.9.0.post0)\n",
      "Requirement already satisfied: tzdata>=2022.7 in c:\\users\\conta\\anaconda3\\lib\\site-packages (from pandas>=1.3.0->yfinance) (2023.3)\n",
      "Requirement already satisfied: charset-normalizer<4,>=2 in c:\\users\\conta\\anaconda3\\lib\\site-packages (from requests>=2.31->yfinance) (2.0.4)\n",
      "Requirement already satisfied: idna<4,>=2.5 in c:\\users\\conta\\anaconda3\\lib\\site-packages (from requests>=2.31->yfinance) (3.7)\n",
      "Requirement already satisfied: urllib3<3,>=1.21.1 in c:\\users\\conta\\anaconda3\\lib\\site-packages (from requests>=2.31->yfinance) (2.2.2)\n",
      "Requirement already satisfied: certifi>=2017.4.17 in c:\\users\\conta\\anaconda3\\lib\\site-packages (from requests>=2.31->yfinance) (2024.7.4)\n"
     ]
    }
   ],
   "source": [
    "!pip install yfinance\n"
   ]
  },
  {
   "cell_type": "code",
   "execution_count": 7,
   "metadata": {},
   "outputs": [
    {
     "name": "stderr",
     "output_type": "stream",
     "text": [
      "[*********************100%***********************]  3 of 3 completed"
     ]
    },
    {
     "name": "stdout",
     "output_type": "stream",
     "text": [
      "Dados baixados e salvos com sucesso!\n"
     ]
    },
    {
     "name": "stderr",
     "output_type": "stream",
     "text": [
      "\n"
     ]
    }
   ],
   "source": [
    "import yfinance as yf\n",
    "\n",
    "# Definindo os ativos e o período\n",
    "ativos = ['AAPL', 'MSFT', 'GOOGL']  # Exemplo: Apple, Microsoft, Google\n",
    "inicio = '2023-01-01'\n",
    "fim = '2025-01-23'\n",
    "\n",
    "# Baixando os dados\n",
    "dados_ativos = yf.download(ativos, start=inicio, end=fim)\n",
    "\n",
    "# Salvando os dados em um arquivo CSV\n",
    "dados_ativos.to_csv('dados_ativos.csv')\n",
    "\n",
    "print(\"Dados baixados e salvos com sucesso!\")\n"
   ]
  },
  {
   "cell_type": "code",
   "execution_count": 8,
   "metadata": {},
   "outputs": [
    {
     "data": {
      "text/html": [
       "<div>\n",
       "<style scoped>\n",
       "    .dataframe tbody tr th:only-of-type {\n",
       "        vertical-align: middle;\n",
       "    }\n",
       "\n",
       "    .dataframe tbody tr th {\n",
       "        vertical-align: top;\n",
       "    }\n",
       "\n",
       "    .dataframe thead tr th {\n",
       "        text-align: left;\n",
       "    }\n",
       "\n",
       "    .dataframe thead tr:last-of-type th {\n",
       "        text-align: right;\n",
       "    }\n",
       "</style>\n",
       "<table border=\"1\" class=\"dataframe\">\n",
       "  <thead>\n",
       "    <tr>\n",
       "      <th>Price</th>\n",
       "      <th colspan=\"3\" halign=\"left\">Close</th>\n",
       "      <th colspan=\"3\" halign=\"left\">High</th>\n",
       "      <th colspan=\"3\" halign=\"left\">Low</th>\n",
       "      <th colspan=\"3\" halign=\"left\">Open</th>\n",
       "      <th colspan=\"3\" halign=\"left\">Volume</th>\n",
       "    </tr>\n",
       "    <tr>\n",
       "      <th>Ticker</th>\n",
       "      <th>AAPL</th>\n",
       "      <th>GOOGL</th>\n",
       "      <th>MSFT</th>\n",
       "      <th>AAPL</th>\n",
       "      <th>GOOGL</th>\n",
       "      <th>MSFT</th>\n",
       "      <th>AAPL</th>\n",
       "      <th>GOOGL</th>\n",
       "      <th>MSFT</th>\n",
       "      <th>AAPL</th>\n",
       "      <th>GOOGL</th>\n",
       "      <th>MSFT</th>\n",
       "      <th>AAPL</th>\n",
       "      <th>GOOGL</th>\n",
       "      <th>MSFT</th>\n",
       "    </tr>\n",
       "    <tr>\n",
       "      <th>Date</th>\n",
       "      <th></th>\n",
       "      <th></th>\n",
       "      <th></th>\n",
       "      <th></th>\n",
       "      <th></th>\n",
       "      <th></th>\n",
       "      <th></th>\n",
       "      <th></th>\n",
       "      <th></th>\n",
       "      <th></th>\n",
       "      <th></th>\n",
       "      <th></th>\n",
       "      <th></th>\n",
       "      <th></th>\n",
       "      <th></th>\n",
       "    </tr>\n",
       "  </thead>\n",
       "  <tbody>\n",
       "    <tr>\n",
       "      <th>2023-01-03</th>\n",
       "      <td>123.768471</td>\n",
       "      <td>88.798103</td>\n",
       "      <td>235.711685</td>\n",
       "      <td>129.537796</td>\n",
       "      <td>90.721133</td>\n",
       "      <td>241.782061</td>\n",
       "      <td>122.877835</td>\n",
       "      <td>88.200264</td>\n",
       "      <td>233.566876</td>\n",
       "      <td>128.924252</td>\n",
       "      <td>89.266399</td>\n",
       "      <td>239.155173</td>\n",
       "      <td>112117500</td>\n",
       "      <td>28131200</td>\n",
       "      <td>25740000</td>\n",
       "    </tr>\n",
       "    <tr>\n",
       "      <th>2023-01-04</th>\n",
       "      <td>125.045036</td>\n",
       "      <td>87.761856</td>\n",
       "      <td>225.400925</td>\n",
       "      <td>127.321104</td>\n",
       "      <td>90.322573</td>\n",
       "      <td>229.110043</td>\n",
       "      <td>123.778358</td>\n",
       "      <td>86.954777</td>\n",
       "      <td>222.311624</td>\n",
       "      <td>125.569520</td>\n",
       "      <td>90.023653</td>\n",
       "      <td>228.529573</td>\n",
       "      <td>89113600</td>\n",
       "      <td>34854800</td>\n",
       "      <td>50623400</td>\n",
       "    </tr>\n",
       "    <tr>\n",
       "      <th>2023-01-05</th>\n",
       "      <td>123.718987</td>\n",
       "      <td>85.888641</td>\n",
       "      <td>218.720566</td>\n",
       "      <td>126.440369</td>\n",
       "      <td>87.253696</td>\n",
       "      <td>223.875966</td>\n",
       "      <td>123.461698</td>\n",
       "      <td>85.589730</td>\n",
       "      <td>218.179443</td>\n",
       "      <td>125.807030</td>\n",
       "      <td>87.154058</td>\n",
       "      <td>223.531611</td>\n",
       "      <td>80962700</td>\n",
       "      <td>27194400</td>\n",
       "      <td>39585600</td>\n",
       "    </tr>\n",
       "    <tr>\n",
       "      <th>2023-01-06</th>\n",
       "      <td>128.271103</td>\n",
       "      <td>87.024521</td>\n",
       "      <td>221.298233</td>\n",
       "      <td>128.934129</td>\n",
       "      <td>87.373263</td>\n",
       "      <td>222.114834</td>\n",
       "      <td>123.590330</td>\n",
       "      <td>84.553483</td>\n",
       "      <td>215.808342</td>\n",
       "      <td>124.698677</td>\n",
       "      <td>86.476512</td>\n",
       "      <td>219.399402</td>\n",
       "      <td>87754700</td>\n",
       "      <td>41381500</td>\n",
       "      <td>43613600</td>\n",
       "    </tr>\n",
       "    <tr>\n",
       "      <th>2023-01-09</th>\n",
       "      <td>128.795593</td>\n",
       "      <td>87.702065</td>\n",
       "      <td>223.452881</td>\n",
       "      <td>132.021678</td>\n",
       "      <td>89.724738</td>\n",
       "      <td>227.506369</td>\n",
       "      <td>128.538304</td>\n",
       "      <td>87.542646</td>\n",
       "      <td>222.754353</td>\n",
       "      <td>129.112270</td>\n",
       "      <td>88.040840</td>\n",
       "      <td>222.793701</td>\n",
       "      <td>70790800</td>\n",
       "      <td>29003900</td>\n",
       "      <td>27369800</td>\n",
       "    </tr>\n",
       "  </tbody>\n",
       "</table>\n",
       "</div>"
      ],
      "text/plain": [
       "Price            Close                               High             \\\n",
       "Ticker            AAPL      GOOGL        MSFT        AAPL      GOOGL   \n",
       "Date                                                                   \n",
       "2023-01-03  123.768471  88.798103  235.711685  129.537796  90.721133   \n",
       "2023-01-04  125.045036  87.761856  225.400925  127.321104  90.322573   \n",
       "2023-01-05  123.718987  85.888641  218.720566  126.440369  87.253696   \n",
       "2023-01-06  128.271103  87.024521  221.298233  128.934129  87.373263   \n",
       "2023-01-09  128.795593  87.702065  223.452881  132.021678  89.724738   \n",
       "\n",
       "Price                          Low                               Open  \\\n",
       "Ticker            MSFT        AAPL      GOOGL        MSFT        AAPL   \n",
       "Date                                                                    \n",
       "2023-01-03  241.782061  122.877835  88.200264  233.566876  128.924252   \n",
       "2023-01-04  229.110043  123.778358  86.954777  222.311624  125.569520   \n",
       "2023-01-05  223.875966  123.461698  85.589730  218.179443  125.807030   \n",
       "2023-01-06  222.114834  123.590330  84.553483  215.808342  124.698677   \n",
       "2023-01-09  227.506369  128.538304  87.542646  222.754353  129.112270   \n",
       "\n",
       "Price                                 Volume                      \n",
       "Ticker          GOOGL        MSFT       AAPL     GOOGL      MSFT  \n",
       "Date                                                              \n",
       "2023-01-03  89.266399  239.155173  112117500  28131200  25740000  \n",
       "2023-01-04  90.023653  228.529573   89113600  34854800  50623400  \n",
       "2023-01-05  87.154058  223.531611   80962700  27194400  39585600  \n",
       "2023-01-06  86.476512  219.399402   87754700  41381500  43613600  \n",
       "2023-01-09  88.040840  222.793701   70790800  29003900  27369800  "
      ]
     },
     "execution_count": 8,
     "metadata": {},
     "output_type": "execute_result"
    }
   ],
   "source": [
    "dados_ativos.head()"
   ]
  },
  {
   "cell_type": "markdown",
   "metadata": {},
   "source": [
    "#### 2. Observando a volatilidade dentro do dia\n",
    "1. Calcule a amplitude de variação do valor do ativo dentro do dia. Essa amplitude você pode calcular com um comando simples de adicionar uma coluna no Pandas: (valor máximo - valor mínimo).\n",
    "2. Monte um gráfico de linha mostrando a variação dessa amplitude ao longo do período coletado, por ativo.\n",
    "3. Veja se consegue identificar que ativo apresentou maior volatilidade."
   ]
  },
  {
   "cell_type": "code",
   "execution_count": null,
   "metadata": {},
   "outputs": [],
   "source": []
  }
 ],
 "metadata": {
  "kernelspec": {
   "display_name": "Python 3 (ipykernel)",
   "language": "python",
   "name": "python3"
  },
  "language_info": {
   "codemirror_mode": {
    "name": "ipython",
    "version": 3
   },
   "file_extension": ".py",
   "mimetype": "text/x-python",
   "name": "python",
   "nbconvert_exporter": "python",
   "pygments_lexer": "ipython3",
   "version": "3.12.4"
  },
  "toc": {
   "base_numbering": 1,
   "nav_menu": {},
   "number_sections": false,
   "sideBar": true,
   "skip_h1_title": true,
   "title_cell": "Índice",
   "title_sidebar": "Conteúdo",
   "toc_cell": false,
   "toc_position": {},
   "toc_section_display": true,
   "toc_window_display": false
  },
  "varInspector": {
   "cols": {
    "lenName": 16,
    "lenType": 16,
    "lenVar": 40
   },
   "kernels_config": {
    "python": {
     "delete_cmd_postfix": "",
     "delete_cmd_prefix": "del ",
     "library": "var_list.py",
     "varRefreshCmd": "print(var_dic_list())"
    },
    "r": {
     "delete_cmd_postfix": ") ",
     "delete_cmd_prefix": "rm(",
     "library": "var_list.r",
     "varRefreshCmd": "cat(var_dic_list()) "
    }
   },
   "types_to_exclude": [
    "module",
    "function",
    "builtin_function_or_method",
    "instance",
    "_Feature"
   ],
   "window_display": false
  }
 },
 "nbformat": 4,
 "nbformat_minor": 4
}
